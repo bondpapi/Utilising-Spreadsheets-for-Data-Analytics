{
  "nbformat": 4,
  "nbformat_minor": 0,
  "metadata": {
    "colab": {
      "provenance": []
    },
    "kernelspec": {
      "name": "python3",
      "display_name": "Python 3"
    },
    "language_info": {
      "name": "python"
    }
  },
  "cells": [
    {
      "cell_type": "markdown",
      "source": [
        "# Module 1: Introduction to Data Analytics\n",
        "## Sprint 2: Utilising Spreadsheets for Data Analytics\n",
        "## Part 5: Spreadsheets Practical Project\n",
        "\n",
        "## New additions to the project review process\n",
        "\n",
        "This is your second practical project which will require reviewing. A new thing introduced in this project is that it will require 2 corrections and both of them will be performed by peers. Later in the course, most sprints will have 1 STL and 1 peer corrections. \n",
        "\n",
        "If there's both a peer and an STL correction for the same sprint, peer reviews have a much smaller weight compared to STLs when calculating the final score of a project (the passing score is 70% or more) — so as a learner you should not worry about being extremely objective.\n",
        "\n",
        "When booking a peer correction, you might get an STL if there are no learners available. However, the same STL can never perform both corrections for the same learner for the same sprint.\n",
        "\n",
        "**You do not have to worry about who (i.e. which role) gets assigned for your reviews – the platform handles this automatically.**\n",
        "\n",
        "To become available to review others yourself, you should click on the \"My Availability\" button in the top left corner of the Turing platform. By doing these corrections, you will receive correction points which you will need to receive further peer corrections yourself. Correction points are used every time you book a peer review. You should set your availability once you complete this project, as you will then be able to start reviewing other learners who still need to complete this project.\n",
        "\n",
        "A learner can only get a correction for a sprint that they have completed themselves.\n",
        "\n",
        "<br>\n",
        "\n",
        "## Graded task\n",
        "\n",
        "You can find the task [here](https://docs.google.com/spreadsheets/d/1mbFK5Lnss_FOq6k7QDS3dQ85cgm3ezFDg8MwyaLt5oA/copy?usp=sharing)\n",
        "\n",
        "<br>\n",
        "\n",
        "## Submission\n",
        "\n",
        "The easiest way to share your Google Spreadhseet via Github is to upload a simple README text file to the repository that will contain a link to your spreadsheet. Make sure that you set the sharing permissions of your Google Spreadsheet so that anyone with the link can view it. If you are working on an Excel file, upload it the the repository as a file similarly how you did in the previous sprint. However, note that if your reviewer does not use Excel, they might see some of the formatting differently if they open the file on Google Sheets.\n",
        "\n",
        "Reminder: each project has a separate GitHub repository. Make sure that you are uploading your work to the correct one (and not the same one as your previous project) by clicking on the GitHub icon in this project's page. Your assigned reviewers will only gain access to the repository of the project that they are reviewing.\n",
        "\n",
        "To submit the project and allow the reviewer to view your work beforehand, go to your GitHub repository by clicking on the GitHub icon above. Next, select \"Add File\"->\"Upload Files\". Select all the files relevant for your project and click \"Commit Changes\". **You are expected to upload your solution immediately upon scheduling a review**. A reviewer, if they see an empty repository with no solution, is allowed to cancel the review. \n",
        "\n",
        "After your first project review, you are encouraged to use the feedback received to make changes and improve your project. If you make the changes very close to the time of the second review, inform the reviewer at the start of the call that you have made some changes. Reviewers usually check your work in advance and might have only seen a previous version. To avoid this, you can schedule your two reviews with some time in-between and make the updates as early as possible.\n",
        "\n",
        "Read more about project reviews [here](https://turingcollege.atlassian.net/wiki/spaces/DLG/pages/537395951/Peer+expert+reviews+corrections).\n",
        "\n",
        "<br>\n",
        "\n",
        "## Accessing the next notebook:\n",
        "After you submit your project, you can immediately start working on the next sprint. Simply click on the next sprint in the navigation menu in the top left corner of the platform."
      ],
      "metadata": {
        "id": "EIgRSF-6O_W9"
      }
    }
  ]
}